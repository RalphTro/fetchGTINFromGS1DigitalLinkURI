{
 "cells": [
  {
   "cell_type": "markdown",
   "metadata": {},
   "source": [
    "# Demo on how to extract a GTIN from a GS1 Digital Link URI"
   ]
  },
  {
   "cell_type": "markdown",
   "metadata": {},
   "source": [
    "## Purpose of this notebook\n",
    "Unlike other GS1 data carriers, e.g. the EAN/UPC barcode which is exclusively used to encode a GTIN...  "
   ]
  },
  {
   "attachments": {
    "ean-13.png": {
     "image/png": "[encoded data removed]"
    }
   },
   "cell_type": "markdown",
   "metadata": {},
   "source": [
    "![ean-13.png](attachment:ean-13.png)"
   ]
  },
  {
   "cell_type": "markdown",
   "metadata": {},
   "source": [
    "...or the FNC1 character in e.g. a GS1 DataMatrix) ... "
   ]
  },
  {
   "attachments": {
    "GS1DM.png": {
     "image/png": "[encoded data removed]"
    }
   },
   "cell_type": "markdown",
   "metadata": {},
   "source": [
    "![GS1DM.png](attachment:GS1DM.png)\n",
    "{FNC1} (01) 04012345123456"
   ]
  },
  {
   "cell_type": "markdown",
   "metadata": {},
   "source": [
    "...a QR Code encoding a GS1 Digital Link (DL) URI does not have an exclusive mechanism to indicate GS1 data: \n",
    "\n"
   ]
  },
  {
   "attachments": {
    "GS1DLQRCode.png": {
     "image/png": "[encoded data removed]"
    }
   },
   "cell_type": "markdown",
   "metadata": {},
   "source": [
    "![GS1DLQRCode.png](attachment:GS1DLQRCode.png)\n",
    "\n",
    "Encoded GS1 Digital Link URI: https://id.gs1.de/01/04012345999969"
   ]
  },
  {
   "cell_type": "markdown",
   "metadata": {},
   "source": [
    "Rather, it must be recognised through a Regular Expression (RegEx). Taking the example of the GTIN (though the same principle is also applicable for all other GS1 keys and data attributes), this notebook demonstrates how this works."
   ]
  },
  {
   "cell_type": "code",
   "execution_count": 1,
   "metadata": {},
   "outputs": [],
   "source": [
    "import re\n",
    "import json"
   ]
  },
  {
   "cell_type": "markdown",
   "metadata": {},
   "source": [
    "## Regular Expression for GS1 Digital Link URIs\n",
    "The following pattern is based on the RegEx as specified in the GS1 Digital Link Standard r. 1.2, section 6.1.1, with two differences: \n",
    "\n",
    "(a) it does not support GS1 Keys irrelevant for this demo (e.g. GLN, SSCC), and \n",
    "\n",
    "(b) works with raw string notation (i.e. without the '\\' escape character) for better readability and comprehensibility.\n",
    "\n",
    "Note that convenience alphas (e.g.'gtin' instead of '01') are deprecated, thus do not appear in the pattern. \n"
   ]
  },
  {
   "cell_type": "code",
   "execution_count": 2,
   "metadata": {},
   "outputs": [],
   "source": [
    "regex = '^https?:(//((([^\\/?#]*)@)?([^\\/?#:]*)(:([^\\/?#]*))?))?([^?#]*)(((/01/)(\\d{4}[^\\/]+)(/[^/]+/[^/]+)?[/]?(\\?([^?\\n]*))?(#([^\\n]*))?))'\n"
   ]
  },
  {
   "cell_type": "markdown",
   "metadata": {},
   "source": [
    "## Check validity of GS1 Digital Link URI encoding a GTIN and fetch its value\n",
    "\n",
    "The following function ('checkDLURIs') expects a list of Digital Link URIs ('dlURIList') and returns a dictionary with the encoded string and, if valid, the embedded GTIN value for each list element. If it is not a valid GS1 Digital Link or does not encode a proper GTIN (i.e. a string with is 8, 12, 13 or 14 digits in length), it returns 'INVALID'. "
   ]
  },
  {
   "cell_type": "code",
   "execution_count": 3,
   "metadata": {},
   "outputs": [],
   "source": [
    "def checkDLURIs(dlURIList):\n",
    "    validatedDict = {}\n",
    "    entries = range(len(dlURIList))\n",
    "    for j in entries:\n",
    "        mO = re.match(regex, dlURIList[j])\n",
    "        if (mO and re.match(r'^((\\d{8})|(\\d{12})|(\\d{13})|(\\d{14}))$', mO.group(12))):\n",
    "            validatedDict[dlURIList[j]] = mO.group(12)\n",
    "        else:\n",
    "            validatedDict[dlURIList[j]] = 'INVALID'\n",
    "    return (json.dumps(validatedDict, indent = 2))\n"
   ]
  },
  {
   "cell_type": "markdown",
   "metadata": {},
   "source": [
    "## Valid examples\n",
    "\n",
    "The following list contains valid examples of GS1 Digital Link URIs embedding a GTIN. The list is then passed a function iterating through it and returning whether an entry is a valid GS1 Digital Link URI which embeds a GTIN. If this is the case, it extracts and also returns the value of the GTIN.\n"
   ]
  },
  {
   "cell_type": "code",
   "execution_count": 4,
   "metadata": {},
   "outputs": [
    {
     "name": "stdout",
     "output_type": "stream",
     "text": [
      "{\n",
      "  \"https://id.gs1.org/01/04012345123456\": \"04012345123456\",\n",
      "  \"https://id.gs1.org/01/9506000149301\": \"9506000149301\",\n",
      "  \"https://id.gs1.org/01/9506000149301/\": \"9506000149301\",\n",
      "  \"https://example.com/01/04150567890128/21/987654\": \"04150567890128\",\n",
      "  \"https://id.gs1.org/01/09506000149301/10/AB-27?17=271231\": \"09506000149301\",\n",
      "  \"https://www.example.co.uk/01/04012345123456\": \"04012345123456\",\n",
      "  \"http://who-cares-about-ssl.info/01/04012345123456\": \"04012345123456\",\n",
      "  \"https://id.smallpackage.de/01/42011231\": \"42011231\",\n",
      "  \"https://id.north-america-org.com/01/061414155557\": \"061414155557\",\n",
      "  \"https://a.b.c.d.e.f.g.h.we.love.many.sub-domains.com/01/04150567890128\": \"04150567890128\",\n",
      "  \"https://id.gs1.de/01/04012345999969/10/Lot-A\": \"04012345999969\",\n",
      "  \"https://id.gs1.de/01/04012345999969/21/Ser987\": \"04012345999969\"\n",
      "}\n"
     ]
    }
   ],
   "source": [
    "validDLURIs = [\n",
    "    'https://id.gs1.org/01/04012345123456',\n",
    "    'https://id.gs1.org/01/9506000149301',\n",
    "    'https://id.gs1.org/01/9506000149301/',\n",
    "    'https://example.com/01/04150567890128/21/987654',\n",
    "    'https://id.gs1.org/01/09506000149301/10/AB-27?17=271231',\n",
    "    'https://www.example.co.uk/01/04012345123456',\n",
    "    'http://who-cares-about-ssl.info/01/04012345123456',\n",
    "    'https://id.smallpackage.de/01/42011231',\n",
    "    'https://id.north-america-org.com/01/061414155557',\n",
    "    'https://a.b.c.d.e.f.g.h.we.love.many.sub-domains.com/01/04150567890128',\n",
    "    'https://id.gs1.de/01/04012345999969/10/Lot-A',\n",
    "    'https://id.gs1.de/01/04012345999969/21/Ser987'\n",
    "]\n",
    "\n",
    "print (checkDLURIs(validDLURIs))"
   ]
  },
  {
   "cell_type": "markdown",
   "metadata": {},
   "source": [
    "## Invalid Examples\n",
    "\n",
    "The following list contains invalid examples of GS1 Digital Link URIs embedding a GTIN. Consequently, when checking it against the RegEx, they are not recognised as a Web URI properly encoding a GTIN."
   ]
  },
  {
   "cell_type": "code",
   "execution_count": 5,
   "metadata": {},
   "outputs": [
    {
     "name": "stdout",
     "output_type": "stream",
     "text": [
      "{\n",
      "  \"GS1 2D Community\": \"INVALID\",\n",
      "  \"id.gs1.org/01/04012345123456\": \"INVALID\",\n",
      "  \"www.gs2.org/01/04012345123456\": \"INVALID\",\n",
      "  \"ftp://example.com/01/04012345123456\": \"INVALID\",\n",
      "  \"https://www.nutello.de/schokobecher\": \"INVALID\",\n",
      "  \"https://id.gs1.org/gtin/04012345123456\": \"INVALID\",\n",
      "  \"https://id.gs1.org/00/04012345123456\": \"INVALID\",\n",
      "  \"https://id.gs1.org/01/123\": \"INVALID\",\n",
      "  \"https://id.gs1.org/01/1234567891011223456565\": \"INVALID\",\n",
      "  \"04012345999969\": \"INVALID\",\n",
      "  \"EAN:4012345999969\": \"INVALID\",\n",
      "  \"GTIN=04012345999969\": \"INVALID\"\n",
      "}\n"
     ]
    }
   ],
   "source": [
    "invalidGS1DLURIs = [\n",
    "    'GS1 2D Community',\n",
    "    'id.gs1.org/01/04012345123456',\n",
    "    'www.gs2.org/01/04012345123456',\n",
    "    'ftp://example.com/01/04012345123456',\n",
    "    'https://www.nutello.de/schokobecher',\n",
    "    'https://id.gs1.org/gtin/04012345123456',\n",
    "    'https://id.gs1.org/00/04012345123456',\n",
    "    'https://id.gs1.org/01/123',\n",
    "    'https://id.gs1.org/01/1234567891011223456565',\n",
    "    '04012345999969',\n",
    "    'EAN:4012345999969',\n",
    "    'GTIN=04012345999969'\n",
    "]\n",
    "\n",
    "print (checkDLURIs(invalidGS1DLURIs))\n"
   ]
  },
  {
   "cell_type": "markdown",
   "metadata": {},
   "source": [
    "## Closing Remarks\n",
    "\n",
    "For illustration purposes, this notebook focussed on how to recognise a valid GS1 Digital Link URI embedding a GTIN in a 2D code and how it is possible to extract the GTIN value e.g. for retail checkout.\n",
    "\n",
    "If a GS1 Digital Link URI encodes further data elements (e.g. a batch/lot number or best-by-date), extracting the data works in a similar fashion. In this case, the respective GS1 element strings are parsed and provided the respective IT applications. \n",
    "\n",
    "Taking the example of a GS1 Digital Link URI such as 'https://id.gs1.de/01/04012345999969/10/Lot-A/21/Ser987', an IT application would receive the following parsed string: '(01)04012345999969(10)Lot-A(21)Ser987', i.e. like it was the case with previous GS1 Type A data carriers. \n",
    "\n",
    "In other words: if backend applications already understand GS1 Application Identifiers, there is no need for modification/reconfiguration on this end. So, the only thing scanning systems must be capable of is to recognise a valid GS1 Digital Link URI embedding GS1 data structures and provide the parsed data in the usual way. \n",
    "\n",
    "Hope this helps - thanks for reading!"
   ]
  }
 ],
 "metadata": {
  "kernelspec": {
   "display_name": "Python 3",
   "language": "python",
   "name": "python3"
  },
  "language_info": {
   "codemirror_mode": {
    "name": "ipython",
    "version": 3
   },
   "file_extension": ".py",
   "mimetype": "text/x-python",
   "name": "python",
   "nbconvert_exporter": "python",
   "pygments_lexer": "ipython3",
   "version": "3.7.3"
  }
 },
 "nbformat": 4,
 "nbformat_minor": 4
}
